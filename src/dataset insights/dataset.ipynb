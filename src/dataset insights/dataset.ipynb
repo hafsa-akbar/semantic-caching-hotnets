{
 "cells": [
  {
   "cell_type": "markdown",
   "metadata": {},
   "source": [
    "# Dataset Properties"
   ]
  },
  {
   "cell_type": "code",
   "execution_count": 1,
   "metadata": {},
   "outputs": [],
   "source": [
    "import pandas as pd\n",
    "import numpy as np\n",
    "import os\n",
    "import re\n",
    "import copy"
   ]
  },
  {
   "cell_type": "code",
   "execution_count": 2,
   "metadata": {},
   "outputs": [],
   "source": [
    "base_dir = '../../data'\n",
    "\n",
    "website_categories = {}\n",
    "\n",
    "for website in os.listdir(base_dir):\n",
    "    data = {}\n",
    "    for category in os.listdir(os.path.join(base_dir, website)):\n",
    "        data[category] = []\n",
    "    website_categories[website] = data"
   ]
  },
  {
   "cell_type": "code",
   "execution_count": 3,
   "metadata": {},
   "outputs": [],
   "source": [
    "dataset_insights = {\n",
    "    'num_images': copy.deepcopy(website_categories),\n",
    "    'num_comparisons': copy.deepcopy(website_categories),\n",
    "    'image_size': copy.deepcopy(website_categories),\n",
    "}"
   ]
  },
  {
   "cell_type": "code",
   "execution_count": 4,
   "metadata": {},
   "outputs": [],
   "source": [
    "def sort_key(image_name):\n",
    "    match = re.match(r'image_(\\d+)_(\\d+)', image_name)\n",
    "    if match:\n",
    "        x = int(match.group(1))  # Extract the first number (x)\n",
    "        y = int(match.group(2))  # Extract the second number (y)\n",
    "        return (x, y)  # Return a tuple for sorting"
   ]
  },
  {
   "cell_type": "code",
   "execution_count": 6,
   "metadata": {},
   "outputs": [],
   "source": [
    "for website in os.listdir(base_dir):\n",
    "    for category in os.listdir(os.path.join(base_dir, website)):\n",
    "        df = pd.read_csv(os.path.join(base_dir, website, category, 'image_descriptions.csv'))\n",
    "        df['article_number'] = [sort_key(file)[0] for file in df['image number'].dropna().tolist()]\n",
    "        dataset_insights['num_images'][website][category] = df['article_number'].value_counts().astype(int).tolist()\n",
    "        images = [os.path.join(base_dir, website, category, img) for img in os.listdir(os.path.join(base_dir, website, category)) if img.endswith('.jpg')]\n",
    "        dataset_insights['image_size'][website][category] = [os.path.getsize(img) for img in images]\n",
    "        dataset_insights['num_comparisons'][website][category] = len([(i, j) for i in df['article_number'].tolist() for j in df['article_number'].tolist() if i < j])"
   ]
  },
  {
   "cell_type": "markdown",
   "metadata": {},
   "source": [
    "**Total no. of images**"
   ]
  },
  {
   "cell_type": "code",
   "execution_count": 7,
   "metadata": {},
   "outputs": [
    {
     "name": "stdout",
     "output_type": "stream",
     "text": [
      "Total no. of images: 4264\n"
     ]
    }
   ],
   "source": [
    "num_images = 0\n",
    "\n",
    "for website, categories in dataset_insights['num_images'].items():\n",
    "    for category, images in categories.items():\n",
    "        num_images += sum(images)\n",
    "\n",
    "print(f'Total no. of images: {num_images}')"
   ]
  },
  {
   "cell_type": "markdown",
   "metadata": {},
   "source": [
    "**Average no. of images per article**"
   ]
  },
  {
   "cell_type": "code",
   "execution_count": 39,
   "metadata": {},
   "outputs": [
    {
     "name": "stdout",
     "output_type": "stream",
     "text": [
      "Average no. of images per article: 1.7937219730941705\n"
     ]
    }
   ],
   "source": [
    "avg_num_image = []\n",
    "\n",
    "for website, categories in dataset_insights['num_images'].items():\n",
    "    # remove paid (we only have main article image for those) + aggregators\n",
    "    if website in ['www.nytimes.com', 'news.google.com', 'www.washingtonpost.com', 'www.forbes.com', 'msn.com']:\n",
    "        continue\n",
    "    for category, images in categories.items():\n",
    "        avg_num_image += images\n",
    "\n",
    "print(f'Average no. of images per article: {np.mean(avg_num_image)}')"
   ]
  },
  {
   "cell_type": "markdown",
   "metadata": {},
   "source": [
    "**Average image size**"
   ]
  },
  {
   "cell_type": "code",
   "execution_count": 14,
   "metadata": {},
   "outputs": [
    {
     "name": "stdout",
     "output_type": "stream",
     "text": [
      "Average image size across all folders: 199203.8625381187 \n"
     ]
    }
   ],
   "source": [
    "def get_image_sizes(directory):\n",
    "    total_size = 0\n",
    "    image_count = 0\n",
    "\n",
    "    for root, dirs, files in os.walk(directory):\n",
    "        for file in files:\n",
    "            if file.lower().endswith('.jpg'):\n",
    "                image_path = os.path.join(root, file)\n",
    "                total_size += os.path.getsize(image_path)\n",
    "                image_count += 1\n",
    "\n",
    "    if image_count == 0:\n",
    "        return 0  \n",
    "\n",
    "    avg_size = total_size / image_count\n",
    "    return avg_size \n",
    "\n",
    "directory_path = '../../data'\n",
    "\n",
    "average_image_size = get_image_sizes(directory_path)\n",
    "print(f'Average image size across all folders: {average_image_size:} ')\n"
   ]
  },
  {
   "cell_type": "markdown",
   "metadata": {},
   "source": [
    "**Total no. of image pair comparisons**"
   ]
  },
  {
   "cell_type": "code",
   "execution_count": 40,
   "metadata": {},
   "outputs": [
    {
     "name": "stdout",
     "output_type": "stream",
     "text": [
      "Total no. of comparisons: 41031\n"
     ]
    }
   ],
   "source": [
    "num_comparisons = 0\n",
    "\n",
    "for website, categories in dataset_insights['num_comparisons'].items():\n",
    "    for category, count in categories.items():\n",
    "        num_comparisons += count\n",
    "\n",
    "print(f'Total no. of comparisons: {num_comparisons}')"
   ]
  }
 ],
 "metadata": {
  "kernelspec": {
   "display_name": "Python 3",
   "language": "python",
   "name": "python3"
  },
  "language_info": {
   "codemirror_mode": {
    "name": "ipython",
    "version": 3
   },
   "file_extension": ".py",
   "mimetype": "text/x-python",
   "name": "python",
   "nbconvert_exporter": "python",
   "pygments_lexer": "ipython3",
   "version": "3.12.1"
  }
 },
 "nbformat": 4,
 "nbformat_minor": 2
}
