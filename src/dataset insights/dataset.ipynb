{
 "cells": [
  {
   "cell_type": "code",
   "execution_count": 12,
   "metadata": {},
   "outputs": [],
   "source": [
    "import pandas as pd\n",
    "import numpy as np\n",
    "import os\n",
    "import re\n",
    "import copy"
   ]
  },
  {
   "cell_type": "code",
   "execution_count": 11,
   "metadata": {},
   "outputs": [],
   "source": [
    "base_dir = '../../data'\n",
    "\n",
    "website_categories = {}\n",
    "\n",
    "for website in os.listdir(base_dir):\n",
    "    data = {}\n",
    "    for category in os.listdir(os.path.join(base_dir, website)):\n",
    "        data[category] = []\n",
    "    website_categories[website] = data"
   ]
  },
  {
   "cell_type": "code",
   "execution_count": 26,
   "metadata": {},
   "outputs": [],
   "source": [
    "dataset_insights = {\n",
    "    'num_images': copy.deepcopy(website_categories),\n",
    "    'num_comparisons': copy.deepcopy(website_categories),\n",
    "    'image_size': copy.deepcopy(website_categories),\n",
    "}"
   ]
  },
  {
   "cell_type": "code",
   "execution_count": 30,
   "metadata": {},
   "outputs": [],
   "source": [
    "def sort_key(image_name):\n",
    "    match = re.match(r'image_(\\d+)_(\\d+)', image_name)\n",
    "    if match:\n",
    "        x = int(match.group(1))  # Extract the first number (x)\n",
    "        y = int(match.group(2))  # Extract the second number (y)\n",
    "        return (x, y)  # Return a tuple for sorting"
   ]
  },
  {
   "cell_type": "code",
   "execution_count": 38,
   "metadata": {},
   "outputs": [],
   "source": [
    "for website in os.listdir(base_dir):\n",
    "    for category in os.listdir(os.path.join(base_dir, website)):\n",
    "        df = pd.read_csv(os.path.join(base_dir, website, category, 'image_descriptions.csv'))\n",
    "        df['article_number'] = [sort_key(file)[0] for file in df['image number'].tolist()]\n",
    "        dataset_insights['num_images'][website][category] = df['article_number'].value_counts().astype(int).tolist()\n",
    "        images = [os.path.join(base_dir, website, category, img) for img in os.listdir(os.path.join(base_dir, website, category)) if img.endswith('.jpg')]\n",
    "        dataset_insights['image_size'][website][category] = [os.path.getsize(img) for img in images]\n",
    "        dataset_insights['num_comparisons'][website][category] = len([(i, j) for i in df['article_number'].tolist() for j in df['article_number'].tolist() if i < j])"
   ]
  },
  {
   "cell_type": "markdown",
   "metadata": {},
   "source": [
    "**Total no. of images**"
   ]
  },
  {
   "cell_type": "code",
   "execution_count": 42,
   "metadata": {},
   "outputs": [
    {
     "name": "stdout",
     "output_type": "stream",
     "text": [
      "Total no. of images: 4264\n"
     ]
    }
   ],
   "source": [
    "num_images = 0\n",
    "\n",
    "for website, categories in dataset_insights['num_images'].items():\n",
    "    for category, images in categories.items():\n",
    "        num_images += sum(images)\n",
    "\n",
    "print(f'Total no. of images: {num_images}')"
   ]
  },
  {
   "cell_type": "markdown",
   "metadata": {},
   "source": [
    "**Average no. of images per article**"
   ]
  },
  {
   "cell_type": "code",
   "execution_count": 43,
   "metadata": {},
   "outputs": [
    {
     "name": "stdout",
     "output_type": "stream",
     "text": [
      "Average no. of images per article: 434.18809523809546\n"
     ]
    }
   ],
   "source": [
    "avg_num_image = 0\n",
    "\n",
    "for website, categories in dataset_insights['num_images'].items():\n",
    "    for category, images in categories.items():\n",
    "        avg_num_image += sum(images) / len(images)\n",
    "\n",
    "print(f'Average no. of images per article: {avg_num_image}')"
   ]
  }
 ],
 "metadata": {
  "kernelspec": {
   "display_name": "Python 3",
   "language": "python",
   "name": "python3"
  },
  "language_info": {
   "codemirror_mode": {
    "name": "ipython",
    "version": 3
   },
   "file_extension": ".py",
   "mimetype": "text/x-python",
   "name": "python",
   "nbconvert_exporter": "python",
   "pygments_lexer": "ipython3",
   "version": "3.10.5"
  }
 },
 "nbformat": 4,
 "nbformat_minor": 2
}
