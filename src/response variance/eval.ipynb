{
 "cells": [
  {
   "cell_type": "markdown",
   "metadata": {},
   "source": [
    "### Variance in assigning replaceability scores across models"
   ]
  },
  {
   "cell_type": "code",
   "execution_count": 3,
   "metadata": {},
   "outputs": [
    {
     "name": "stdout",
     "output_type": "stream",
     "text": [
      "Pooled Standard Deviation for gpt: 0.3720\n",
      "Pooled Standard Deviation for claude: 0.2575\n",
      "Pooled Standard Deviation for gemini: 0.0000\n",
      "Pooled Standard Deviation for llama: 0.1638\n"
     ]
    }
   ],
   "source": [
    "import os\n",
    "import json\n",
    "import numpy as np\n",
    "\n",
    "def calculate_pooled_std(results):\n",
    "    sum_of_variances = 0  \n",
    "\n",
    "    for label, scores in results.items():\n",
    "        n = len(scores)  \n",
    "        if n > 1:  \n",
    "            sum_of_variances += np.std(scores, ddof=1)**2  \n",
    "    \n",
    "    return (sum_of_variances / len(results))**0.5\n",
    "\n",
    "def compute_for_model(model_folder):\n",
    "    json_file = os.path.join(model_folder, 'output.json')\n",
    "    \n",
    "    with open(json_file, 'r') as f:\n",
    "        results = json.load(f)\n",
    "    \n",
    "    pooled_std = calculate_pooled_std(results)\n",
    "    \n",
    "    return pooled_std\n",
    "\n",
    "models = ['gpt', 'claude', 'gemini', 'llama']\n",
    "base_dir = 'test_error'\n",
    "\n",
    "for model in models:\n",
    "    model_folder = os.path.join(base_dir, model)\n",
    "    pooled_std = compute_for_model(model_folder)\n",
    "    print(f\"Pooled Standard Deviation for {model}: {pooled_std:.4f}\")"
   ]
  }
 ],
 "metadata": {
  "kernelspec": {
   "display_name": "Python 3",
   "language": "python",
   "name": "python3"
  },
  "language_info": {
   "codemirror_mode": {
    "name": "ipython",
    "version": 3
   },
   "file_extension": ".py",
   "mimetype": "text/x-python",
   "name": "python",
   "nbconvert_exporter": "python",
   "pygments_lexer": "ipython3",
   "version": "3.12.1"
  }
 },
 "nbformat": 4,
 "nbformat_minor": 2
}
