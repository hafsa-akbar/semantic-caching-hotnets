{
 "cells": [
  {
   "cell_type": "markdown",
   "metadata": {},
   "source": [
    "# Krippendorff's Alpha\n",
    "\n",
    "In this notebook, we will use Krippendorff's alpha, a statistical measure used to assess the reliability and agreement between two set of raters."
   ]
  },
  {
   "cell_type": "markdown",
   "metadata": {},
   "source": [
    "**Imports**"
   ]
  },
  {
   "cell_type": "code",
   "execution_count": 16,
   "metadata": {},
   "outputs": [],
   "source": [
    "import pandas as pd\n",
    "import numpy as np\n",
    "import os\n",
    "import re\n",
    "import krippendorff\n",
    "from json import dumps, loads\n",
    "from sklearn.metrics import cohen_kappa_score\n",
    "import math"
   ]
  },
  {
   "cell_type": "markdown",
   "metadata": {},
   "source": [
    "### Utility Functions for Extracting Upper Triangular Matrix\n",
    "\n",
    "This section includes utility functions designed to extract the upper triangular matrix from a given similarity matrix. These functions facilitate efficient data manipulation and analysis by allowing easy access to the relevant portions of the matrix."
   ]
  },
  {
   "cell_type": "code",
   "execution_count": 210,
   "metadata": {},
   "outputs": [],
   "source": [
    "def sort_key(image_name):\n",
    "    match = re.match(r'image_(\\d+)_(\\d+)', image_name)\n",
    "    if match:\n",
    "        x = int(match.group(1))  # Extract the first number (x)\n",
    "        y = int(match.group(2))  # Extract the second number (y)\n",
    "        return (x, y)  # Return a tuple for sorting\n",
    "\n",
    "def concat_lists(dict):\n",
    "    slice = []\n",
    "    for website, scores in dict.items():\n",
    "        for cat in scores.keys():\n",
    "            slice += dict[website][cat]\n",
    "    \n",
    "    return slice\n",
    "\n",
    "def create_similarity_matrix(file):\n",
    "    df = pd.read_csv(file, index_col=0)\n",
    "    n = df.shape[0]\n",
    "    similarity_matrix = []\n",
    "    for i in range(n):\n",
    "        similarity_matrix.append(list(df.iloc[i]))\n",
    "    return similarity_matrix, [sort_key(i.strip()) for i in df.columns.tolist()]\n",
    "\n",
    "def get_scores_list(similarity_matrix, images):\n",
    "    scores_list = []\n",
    "    for i in range(len(similarity_matrix)):\n",
    "        for j in range(i+1,len(similarity_matrix[i])):\n",
    "            x1, y1 = images[i]\n",
    "            x2, y2 = images[j]\n",
    "\n",
    "            if x1 != x2:\n",
    "                scores_list.append(similarity_matrix[i][j])\n",
    "    \n",
    "    return scores_list"
   ]
  },
  {
   "cell_type": "markdown",
   "metadata": {},
   "source": [
    "Loading labels"
   ]
  },
  {
   "cell_type": "code",
   "execution_count": 211,
   "metadata": {},
   "outputs": [],
   "source": [
    "raters = {\n",
    "    'Set 1': {'Rater 1': {}, 'Rater 2': {}},\n",
    "    'Set 2': {'Rater 1': {}, 'Rater 2': {}}\n",
    "}\n",
    "\n",
    "for set, raters_dict in raters.items():\n",
    "    for rater in raters_dict.keys():\n",
    "        websites = {}\n",
    "        for website in os.listdir(f'{set}/{rater}'):\n",
    "            data = {}\n",
    "            for category in os.listdir(f'{set}/{rater}/{website}'):\n",
    "                similarity_matrix, images = create_similarity_matrix(os.path.join(set, rater, website, category))\n",
    "                data[category] = get_scores_list(similarity_matrix, images)\n",
    "            websites[website] = data\n",
    "        raters[set][rater] = websites"
   ]
  },
  {
   "cell_type": "code",
   "execution_count": 212,
   "metadata": {},
   "outputs": [
    {
     "name": "stdout",
     "output_type": "stream",
     "text": [
      "Set 1 Krippendorff's alpha: 0.7970879700070952\n",
      "Set 2 Krippendorff's alpha: 0.8435807417117765\n"
     ]
    }
   ],
   "source": [
    "for set in raters.keys():\n",
    "    concat_lists(raters[set]['Rater 1'])\n",
    "    data = [concat_lists(raters[set]['Rater 1']), concat_lists(raters[set]['Rater 2'])]\n",
    "    alpha = krippendorff.alpha(reliability_data=data, level_of_measurement=\"ordinal\", value_domain=[0,1,2,3,4])\n",
    "    print(f'{set} Krippendorff\\'s alpha: {alpha}')"
   ]
  }
 ],
 "metadata": {
  "kernelspec": {
   "display_name": "Python 3",
   "language": "python",
   "name": "python3"
  },
  "language_info": {
   "codemirror_mode": {
    "name": "ipython",
    "version": 3
   },
   "file_extension": ".py",
   "mimetype": "text/x-python",
   "name": "python",
   "nbconvert_exporter": "python",
   "pygments_lexer": "ipython3",
   "version": "3.10.5"
  }
 },
 "nbformat": 4,
 "nbformat_minor": 2
}
